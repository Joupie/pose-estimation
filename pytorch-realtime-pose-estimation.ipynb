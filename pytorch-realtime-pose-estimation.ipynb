{
  "nbformat": 4,
  "nbformat_minor": 0,
  "metadata": {
    "colab": {
      "name": "Untitled1.ipynb",
      "provenance": [],
      "authorship_tag": "ABX9TyPwcxgzMpOWaVkjWUUYtBfA",
      "include_colab_link": true
    },
    "kernelspec": {
      "name": "python3",
      "display_name": "Python 3"
    },
    "language_info": {
      "name": "python"
    },
    "accelerator": "GPU"
  },
  "cells": [
    {
      "cell_type": "markdown",
      "metadata": {
        "id": "view-in-github",
        "colab_type": "text"
      },
      "source": [
        "<a href=\"https://colab.research.google.com/github/Joupie/pose-estimation/blob/main/pytorch-realtime-pose-estimation.ipynb\" target=\"_parent\"><img src=\"https://colab.research.google.com/assets/colab-badge.svg\" alt=\"Open In Colab\"/></a>"
      ]
    },
    {
      "cell_type": "code",
      "metadata": {
        "colab": {
          "base_uri": "https://localhost:8080/"
        },
        "id": "Xzo4qUOvi1uy",
        "outputId": "646872f5-3a6b-49fa-a277-38e6e01f22fe"
      },
      "source": [
        "!wget https://www.dropbox.com/s/ae071mfm2qoyc8v/pose_model.pth"
      ],
      "execution_count": 1,
      "outputs": [
        {
          "output_type": "stream",
          "name": "stdout",
          "text": [
            "--2021-11-15 09:56:05--  https://www.dropbox.com/s/ae071mfm2qoyc8v/pose_model.pth\n",
            "Resolving www.dropbox.com (www.dropbox.com)... 162.125.3.18, 2620:100:601b:18::a27d:812\n",
            "Connecting to www.dropbox.com (www.dropbox.com)|162.125.3.18|:443... connected.\n",
            "HTTP request sent, awaiting response... 301 Moved Permanently\n",
            "Location: /s/raw/ae071mfm2qoyc8v/pose_model.pth [following]\n",
            "--2021-11-15 09:56:06--  https://www.dropbox.com/s/raw/ae071mfm2qoyc8v/pose_model.pth\n",
            "Reusing existing connection to www.dropbox.com:443.\n",
            "HTTP request sent, awaiting response... 302 Found\n",
            "Location: https://uc0790411f3abbb229d3ae6de3a5.dl.dropboxusercontent.com/cd/0/inline/BaBVZie5iyBQeMXy_6sUhGvVCrlhTClecJ7jUduFeWve25M50-Gi3czN4asgtnYx63WfIgtFUUF6z1te_VOMHQlG3aYIs1L9faGf8X0LmQBXttdLxP4o7yrYvdND3UvCybw6y035B6O1ivDFrp_B-MxD/file# [following]\n",
            "--2021-11-15 09:56:06--  https://uc0790411f3abbb229d3ae6de3a5.dl.dropboxusercontent.com/cd/0/inline/BaBVZie5iyBQeMXy_6sUhGvVCrlhTClecJ7jUduFeWve25M50-Gi3czN4asgtnYx63WfIgtFUUF6z1te_VOMHQlG3aYIs1L9faGf8X0LmQBXttdLxP4o7yrYvdND3UvCybw6y035B6O1ivDFrp_B-MxD/file\n",
            "Resolving uc0790411f3abbb229d3ae6de3a5.dl.dropboxusercontent.com (uc0790411f3abbb229d3ae6de3a5.dl.dropboxusercontent.com)... 162.125.3.15, 2620:100:6018:15::a27d:30f\n",
            "Connecting to uc0790411f3abbb229d3ae6de3a5.dl.dropboxusercontent.com (uc0790411f3abbb229d3ae6de3a5.dl.dropboxusercontent.com)|162.125.3.15|:443... connected.\n",
            "HTTP request sent, awaiting response... 302 Found\n",
            "Location: /cd/0/inline2/BaDkAKCMbA8fe6QLzBEwVicJOMJ3buFhIhcBaC7ixZXbep0S844iacE83mwcxsyZzdbEiTfi6kwjMbzgGKAKqUp-r0euwHX0h3BNGtsQBnAApGgkYWvVfxvBDoWNdMlmsXUZCjIjbuXTxf2_G-M6mK4YFzQFmpc9zJ-Pe8YSOkxqpHwQ1__NJ66fg5K8jLKQY_plRdIwKZYx5_s6t-JGR_D--XLzmHcJFApYVTfbEhaDXYu9k741LU8KmdJsZftokTKsO6sZg6vcIvj3SJguxapkeJIRkOMwFroC1bWyia5s0-qgTP9skaWDnMdYUF-vomRm1qQvxNE3ErgEqtvq90kOyoYiJkNqft8Yxm_mw7NSItUSXH7kxObV_IMGz68L0io/file [following]\n",
            "--2021-11-15 09:56:07--  https://uc0790411f3abbb229d3ae6de3a5.dl.dropboxusercontent.com/cd/0/inline2/BaDkAKCMbA8fe6QLzBEwVicJOMJ3buFhIhcBaC7ixZXbep0S844iacE83mwcxsyZzdbEiTfi6kwjMbzgGKAKqUp-r0euwHX0h3BNGtsQBnAApGgkYWvVfxvBDoWNdMlmsXUZCjIjbuXTxf2_G-M6mK4YFzQFmpc9zJ-Pe8YSOkxqpHwQ1__NJ66fg5K8jLKQY_plRdIwKZYx5_s6t-JGR_D--XLzmHcJFApYVTfbEhaDXYu9k741LU8KmdJsZftokTKsO6sZg6vcIvj3SJguxapkeJIRkOMwFroC1bWyia5s0-qgTP9skaWDnMdYUF-vomRm1qQvxNE3ErgEqtvq90kOyoYiJkNqft8Yxm_mw7NSItUSXH7kxObV_IMGz68L0io/file\n",
            "Reusing existing connection to uc0790411f3abbb229d3ae6de3a5.dl.dropboxusercontent.com:443.\n",
            "HTTP request sent, awaiting response... 200 OK\n",
            "Length: 209266467 (200M) [application/octet-stream]\n",
            "Saving to: ‘pose_model.pth’\n",
            "\n",
            "pose_model.pth      100%[===================>] 199.57M  73.8MB/s    in 2.7s    \n",
            "\n",
            "2021-11-15 09:56:10 (73.8 MB/s) - ‘pose_model.pth’ saved [209266467/209266467]\n",
            "\n"
          ]
        }
      ]
    },
    {
      "cell_type": "code",
      "metadata": {
        "colab": {
          "base_uri": "https://localhost:8080/"
        },
        "id": "OyUyMwR6kQRm",
        "outputId": "59497034-a83a-4a48-d528-e590cd505226"
      },
      "source": [
        "!apt-get install python python-setuptools python-dev python-augeas gcc swig dialog"
      ],
      "execution_count": 2,
      "outputs": [
        {
          "output_type": "stream",
          "name": "stdout",
          "text": [
            "Reading package lists... Done\n",
            "Building dependency tree       \n",
            "Reading state information... Done\n",
            "python is already the newest version (2.7.15~rc1-1).\n",
            "python-dev is already the newest version (2.7.15~rc1-1).\n",
            "gcc is already the newest version (4:7.4.0-1ubuntu2.3).\n",
            "gcc set to manually installed.\n",
            "The following additional packages will be installed:\n",
            "  augeas-lenses libaugeas0 python-pkg-resources swig3.0\n",
            "Suggested packages:\n",
            "  augeas-doc augeas-tools python-setuptools-doc swig-doc swig-examples\n",
            "  swig3.0-examples swig3.0-doc\n",
            "The following NEW packages will be installed:\n",
            "  augeas-lenses dialog libaugeas0 python-augeas python-pkg-resources\n",
            "  python-setuptools swig swig3.0\n",
            "0 upgraded, 8 newly installed, 0 to remove and 37 not upgraded.\n",
            "Need to get 2,243 kB of archives.\n",
            "After this operation, 11.3 MB of additional disk space will be used.\n",
            "Get:1 http://archive.ubuntu.com/ubuntu bionic-updates/main amd64 augeas-lenses all 1.10.1-2ubuntu1 [300 kB]\n",
            "Get:2 http://archive.ubuntu.com/ubuntu bionic/universe amd64 dialog amd64 1.3-20171209-1 [217 kB]\n",
            "Get:3 http://archive.ubuntu.com/ubuntu bionic-updates/main amd64 libaugeas0 amd64 1.10.1-2ubuntu1 [160 kB]\n",
            "Get:4 http://archive.ubuntu.com/ubuntu bionic/universe amd64 python-augeas all 0.5.0-1 [9,204 B]\n",
            "Get:5 http://archive.ubuntu.com/ubuntu bionic/main amd64 python-pkg-resources all 39.0.1-2 [128 kB]\n",
            "Get:6 http://archive.ubuntu.com/ubuntu bionic/main amd64 python-setuptools all 39.0.1-2 [329 kB]\n",
            "Get:7 http://archive.ubuntu.com/ubuntu bionic/universe amd64 swig3.0 amd64 3.0.12-1 [1,094 kB]\n",
            "Get:8 http://archive.ubuntu.com/ubuntu bionic/universe amd64 swig amd64 3.0.12-1 [6,460 B]\n",
            "Fetched 2,243 kB in 3s (716 kB/s)\n",
            "Selecting previously unselected package augeas-lenses.\n",
            "(Reading database ... 155219 files and directories currently installed.)\n",
            "Preparing to unpack .../0-augeas-lenses_1.10.1-2ubuntu1_all.deb ...\n",
            "Unpacking augeas-lenses (1.10.1-2ubuntu1) ...\n",
            "Selecting previously unselected package dialog.\n",
            "Preparing to unpack .../1-dialog_1.3-20171209-1_amd64.deb ...\n",
            "Unpacking dialog (1.3-20171209-1) ...\n",
            "Selecting previously unselected package libaugeas0:amd64.\n",
            "Preparing to unpack .../2-libaugeas0_1.10.1-2ubuntu1_amd64.deb ...\n",
            "Unpacking libaugeas0:amd64 (1.10.1-2ubuntu1) ...\n",
            "Selecting previously unselected package python-augeas.\n",
            "Preparing to unpack .../3-python-augeas_0.5.0-1_all.deb ...\n",
            "Unpacking python-augeas (0.5.0-1) ...\n",
            "Selecting previously unselected package python-pkg-resources.\n",
            "Preparing to unpack .../4-python-pkg-resources_39.0.1-2_all.deb ...\n",
            "Unpacking python-pkg-resources (39.0.1-2) ...\n",
            "Selecting previously unselected package python-setuptools.\n",
            "Preparing to unpack .../5-python-setuptools_39.0.1-2_all.deb ...\n",
            "Unpacking python-setuptools (39.0.1-2) ...\n",
            "Selecting previously unselected package swig3.0.\n",
            "Preparing to unpack .../6-swig3.0_3.0.12-1_amd64.deb ...\n",
            "Unpacking swig3.0 (3.0.12-1) ...\n",
            "Selecting previously unselected package swig.\n",
            "Preparing to unpack .../7-swig_3.0.12-1_amd64.deb ...\n",
            "Unpacking swig (3.0.12-1) ...\n",
            "Setting up swig3.0 (3.0.12-1) ...\n",
            "Setting up dialog (1.3-20171209-1) ...\n",
            "Setting up python-pkg-resources (39.0.1-2) ...\n",
            "Setting up augeas-lenses (1.10.1-2ubuntu1) ...\n",
            "Setting up python-setuptools (39.0.1-2) ...\n",
            "Setting up swig (3.0.12-1) ...\n",
            "Setting up libaugeas0:amd64 (1.10.1-2ubuntu1) ...\n",
            "Setting up python-augeas (0.5.0-1) ...\n",
            "Processing triggers for man-db (2.8.3-2ubuntu0.1) ...\n",
            "Processing triggers for libc-bin (2.27-3ubuntu1.3) ...\n",
            "/sbin/ldconfig.real: /usr/local/lib/python3.7/dist-packages/ideep4py/lib/libmkldnn.so.0 is not a symbolic link\n",
            "\n"
          ]
        }
      ]
    },
    {
      "cell_type": "code",
      "metadata": {
        "colab": {
          "base_uri": "https://localhost:8080/"
        },
        "id": "_l8BItRsjGif",
        "outputId": "50c801e0-871c-4ad4-921f-99632337df61"
      },
      "source": [
        "!git clone https://github.com/tensorboy/pytorch_Realtime_Multi-Person_Pose_Estimation.git\n"
      ],
      "execution_count": 3,
      "outputs": [
        {
          "output_type": "stream",
          "name": "stdout",
          "text": [
            "Cloning into 'pytorch_Realtime_Multi-Person_Pose_Estimation'...\n",
            "remote: Enumerating objects: 106, done.\u001b[K\n",
            "remote: Counting objects: 100% (38/38), done.\u001b[K\n",
            "remote: Compressing objects: 100% (30/30), done.\u001b[K\n",
            "remote: Total 106 (delta 10), reused 23 (delta 8), pack-reused 68\u001b[K\n",
            "Receiving objects: 100% (106/106), 54.36 MiB | 30.89 MiB/s, done.\n",
            "Resolving deltas: 100% (14/14), done.\n"
          ]
        }
      ]
    },
    {
      "cell_type": "code",
      "metadata": {
        "colab": {
          "base_uri": "https://localhost:8080/"
        },
        "id": "TRq9GE1Xm2Ap",
        "outputId": "f1d4f0a6-f39c-4618-8386-6680ee57f794"
      },
      "source": [
        "!pip install -r /content/pytorch_Realtime_Multi-Person_Pose_Estimation/requirements.txt"
      ],
      "execution_count": 4,
      "outputs": [
        {
          "output_type": "stream",
          "name": "stdout",
          "text": [
            "Requirement already satisfied: Cython in /usr/local/lib/python3.7/dist-packages (from -r /content/pytorch_Realtime_Multi-Person_Pose_Estimation/requirements.txt (line 1)) (0.29.24)\n",
            "Requirement already satisfied: torch>=1.2 in /usr/local/lib/python3.7/dist-packages (from -r /content/pytorch_Realtime_Multi-Person_Pose_Estimation/requirements.txt (line 2)) (1.10.0+cu111)\n",
            "Requirement already satisfied: torchvision>=0.4.0 in /usr/local/lib/python3.7/dist-packages (from -r /content/pytorch_Realtime_Multi-Person_Pose_Estimation/requirements.txt (line 3)) (0.11.1+cu111)\n",
            "Collecting progress\n",
            "  Downloading progress-1.6.tar.gz (7.8 kB)\n",
            "Requirement already satisfied: matplotlib in /usr/local/lib/python3.7/dist-packages (from -r /content/pytorch_Realtime_Multi-Person_Pose_Estimation/requirements.txt (line 5)) (3.2.2)\n",
            "Requirement already satisfied: scipy in /usr/local/lib/python3.7/dist-packages (from -r /content/pytorch_Realtime_Multi-Person_Pose_Estimation/requirements.txt (line 6)) (1.4.1)\n",
            "Requirement already satisfied: pycocotools in /usr/local/lib/python3.7/dist-packages (from -r /content/pytorch_Realtime_Multi-Person_Pose_Estimation/requirements.txt (line 7)) (2.0.2)\n",
            "Collecting yacs\n",
            "  Downloading yacs-0.1.8-py3-none-any.whl (14 kB)\n",
            "Requirement already satisfied: typing-extensions in /usr/local/lib/python3.7/dist-packages (from torch>=1.2->-r /content/pytorch_Realtime_Multi-Person_Pose_Estimation/requirements.txt (line 2)) (3.10.0.2)\n",
            "Requirement already satisfied: pillow!=8.3.0,>=5.3.0 in /usr/local/lib/python3.7/dist-packages (from torchvision>=0.4.0->-r /content/pytorch_Realtime_Multi-Person_Pose_Estimation/requirements.txt (line 3)) (7.1.2)\n",
            "Requirement already satisfied: numpy in /usr/local/lib/python3.7/dist-packages (from torchvision>=0.4.0->-r /content/pytorch_Realtime_Multi-Person_Pose_Estimation/requirements.txt (line 3)) (1.19.5)\n",
            "Requirement already satisfied: cycler>=0.10 in /usr/local/lib/python3.7/dist-packages (from matplotlib->-r /content/pytorch_Realtime_Multi-Person_Pose_Estimation/requirements.txt (line 5)) (0.11.0)\n",
            "Requirement already satisfied: pyparsing!=2.0.4,!=2.1.2,!=2.1.6,>=2.0.1 in /usr/local/lib/python3.7/dist-packages (from matplotlib->-r /content/pytorch_Realtime_Multi-Person_Pose_Estimation/requirements.txt (line 5)) (2.4.7)\n",
            "Requirement already satisfied: kiwisolver>=1.0.1 in /usr/local/lib/python3.7/dist-packages (from matplotlib->-r /content/pytorch_Realtime_Multi-Person_Pose_Estimation/requirements.txt (line 5)) (1.3.2)\n",
            "Requirement already satisfied: python-dateutil>=2.1 in /usr/local/lib/python3.7/dist-packages (from matplotlib->-r /content/pytorch_Realtime_Multi-Person_Pose_Estimation/requirements.txt (line 5)) (2.8.2)\n",
            "Requirement already satisfied: six>=1.5 in /usr/local/lib/python3.7/dist-packages (from python-dateutil>=2.1->matplotlib->-r /content/pytorch_Realtime_Multi-Person_Pose_Estimation/requirements.txt (line 5)) (1.15.0)\n",
            "Requirement already satisfied: setuptools>=18.0 in /usr/local/lib/python3.7/dist-packages (from pycocotools->-r /content/pytorch_Realtime_Multi-Person_Pose_Estimation/requirements.txt (line 7)) (57.4.0)\n",
            "Requirement already satisfied: PyYAML in /usr/local/lib/python3.7/dist-packages (from yacs->-r /content/pytorch_Realtime_Multi-Person_Pose_Estimation/requirements.txt (line 8)) (3.13)\n",
            "Building wheels for collected packages: progress\n",
            "  Building wheel for progress (setup.py) ... \u001b[?25l\u001b[?25hdone\n",
            "  Created wheel for progress: filename=progress-1.6-py3-none-any.whl size=9628 sha256=b65a3d3c26f8a04611ba045b16bd8cf70aae7cb0116d87b8a258c5bb0f1b262f\n",
            "  Stored in directory: /root/.cache/pip/wheels/8e/d7/61/498d8e27dc11e9805b01eb3539e2ee344436fc226daeb5fe87\n",
            "Successfully built progress\n",
            "Installing collected packages: yacs, progress\n",
            "Successfully installed progress-1.6 yacs-0.1.8\n"
          ]
        }
      ]
    },
    {
      "cell_type": "code",
      "metadata": {
        "colab": {
          "base_uri": "https://localhost:8080/"
        },
        "id": "JcW9CUe7i7qz",
        "outputId": "e42264a8-1d23-4acc-9850-0a183f0da5e6"
      },
      "source": [
        "%cd pytorch_Realtime_Multi-Person_Pose_Estimation/lib/pafprocess\n",
        "!bash make.sh"
      ],
      "execution_count": 5,
      "outputs": [
        {
          "output_type": "stream",
          "name": "stdout",
          "text": [
            "/content/pytorch_Realtime_Multi-Person_Pose_Estimation/lib/pafprocess\n",
            "running build_ext\n",
            "building '_pafprocess' extension\n",
            "swigging pafprocess.i to pafprocess_wrap.cpp\n",
            "swig -python -c++ -o pafprocess_wrap.cpp pafprocess.i\n",
            "creating build\n",
            "creating build/temp.linux-x86_64-3.7\n",
            "x86_64-linux-gnu-gcc -pthread -Wno-unused-result -Wsign-compare -DNDEBUG -g -fwrapv -O2 -Wall -g -fdebug-prefix-map=/build/python3.7-Y7dWVB/python3.7-3.7.12=. -fstack-protector-strong -Wformat -Werror=format-security -g -fdebug-prefix-map=/build/python3.7-Y7dWVB/python3.7-3.7.12=. -fstack-protector-strong -Wformat -Werror=format-security -Wdate-time -D_FORTIFY_SOURCE=2 -fPIC -I/usr/local/lib/python3.7/dist-packages/numpy/core/include -I. -I/usr/include/python3.7m -c pafprocess.cpp -o build/temp.linux-x86_64-3.7/pafprocess.o\n",
            "x86_64-linux-gnu-gcc -pthread -Wno-unused-result -Wsign-compare -DNDEBUG -g -fwrapv -O2 -Wall -g -fdebug-prefix-map=/build/python3.7-Y7dWVB/python3.7-3.7.12=. -fstack-protector-strong -Wformat -Werror=format-security -g -fdebug-prefix-map=/build/python3.7-Y7dWVB/python3.7-3.7.12=. -fstack-protector-strong -Wformat -Werror=format-security -Wdate-time -D_FORTIFY_SOURCE=2 -fPIC -I/usr/local/lib/python3.7/dist-packages/numpy/core/include -I. -I/usr/include/python3.7m -c pafprocess_wrap.cpp -o build/temp.linux-x86_64-3.7/pafprocess_wrap.o\n",
            "x86_64-linux-gnu-g++ -pthread -shared -Wl,-O1 -Wl,-Bsymbolic-functions -Wl,-Bsymbolic-functions -Wl,-z,relro -Wl,-Bsymbolic-functions -Wl,-z,relro -g -fdebug-prefix-map=/build/python3.7-Y7dWVB/python3.7-3.7.12=. -fstack-protector-strong -Wformat -Werror=format-security -Wdate-time -D_FORTIFY_SOURCE=2 build/temp.linux-x86_64-3.7/pafprocess.o build/temp.linux-x86_64-3.7/pafprocess_wrap.o -o /content/pytorch_Realtime_Multi-Person_Pose_Estimation/lib/pafprocess/_pafprocess.cpython-37m-x86_64-linux-gnu.so\n"
          ]
        }
      ]
    },
    {
      "cell_type": "code",
      "metadata": {
        "colab": {
          "base_uri": "https://localhost:8080/"
        },
        "id": "souUk1QpjJE-",
        "outputId": "5add5501-c61e-48dd-e5b8-0035a8159c6d"
      },
      "source": [
        "%cd /content/pytorch_Realtime_Multi-Person_Pose_Estimation\n",
        "!python /content/pytorch_Realtime_Multi-Person_Pose_Estimation/demo/web_demo.py"
      ],
      "execution_count": 1,
      "outputs": [
        {
          "output_type": "stream",
          "name": "stdout",
          "text": [
            "/content/pytorch_Realtime_Multi-Person_Pose_Estimation\n",
            "Bulding VGG19\n",
            "[ WARN:0] global /io/opencv/modules/videoio/src/cap_v4l.cpp (802) open VIDEOIO ERROR: V4L: can't open camera by index 0\n",
            "<VideoCapture 0x7f2fa325bf90>\n",
            "False None\n",
            "Traceback (most recent call last):\n",
            "  File \"/content/pytorch_Realtime_Multi-Person_Pose_Estimation/demo/web_demo.py\", line 57, in <module>\n",
            "    shape_dst = np.min(oriImg.shape[0:2])\n",
            "AttributeError: 'NoneType' object has no attribute 'shape'\n"
          ]
        }
      ]
    },
    {
      "cell_type": "code",
      "metadata": {
        "colab": {
          "base_uri": "https://localhost:8080/"
        },
        "id": "vDFdpdDLkfQR",
        "outputId": "f0ff7137-e98e-4aeb-fc0f-4c02ed20cf9a"
      },
      "source": [
        "!usermod -a -G video\n"
      ],
      "execution_count": 9,
      "outputs": [
        {
          "output_type": "stream",
          "name": "stdout",
          "text": [
            "Usage: usermod [options] LOGIN\n",
            "\n",
            "Options:\n",
            "  -c, --comment COMMENT         new value of the GECOS field\n",
            "  -d, --home HOME_DIR           new home directory for the user account\n",
            "  -e, --expiredate EXPIRE_DATE  set account expiration date to EXPIRE_DATE\n",
            "  -f, --inactive INACTIVE       set password inactive after expiration\n",
            "                                to INACTIVE\n",
            "  -g, --gid GROUP               force use GROUP as new primary group\n",
            "  -G, --groups GROUPS           new list of supplementary GROUPS\n",
            "  -a, --append                  append the user to the supplemental GROUPS\n",
            "                                mentioned by the -G option without removing\n",
            "                                him/her from other groups\n",
            "  -h, --help                    display this help message and exit\n",
            "  -l, --login NEW_LOGIN         new value of the login name\n",
            "  -L, --lock                    lock the user account\n",
            "  -m, --move-home               move contents of the home directory to the\n",
            "                                new location (use only with -d)\n",
            "  -o, --non-unique              allow using duplicate (non-unique) UID\n",
            "  -p, --password PASSWORD       use encrypted password for the new password\n",
            "  -R, --root CHROOT_DIR         directory to chroot into\n",
            "  -s, --shell SHELL             new login shell for the user account\n",
            "  -u, --uid UID                 new UID for the user account\n",
            "  -U, --unlock                  unlock the user account\n",
            "  -v, --add-subuids FIRST-LAST  add range of subordinate uids\n",
            "  -V, --del-subuids FIRST-LAST  remove range of subordinate uids\n",
            "  -w, --add-subgids FIRST-LAST  add range of subordinate gids\n",
            "  -W, --del-subgids FIRST-LAST  remove range of subordinate gids\n",
            "  -Z, --selinux-user SEUSER     new SELinux user mapping for the user account\n",
            "\n"
          ]
        }
      ]
    },
    {
      "cell_type": "code",
      "metadata": {
        "id": "M9gJI4H-DGPo"
      },
      "source": [
        ""
      ],
      "execution_count": null,
      "outputs": []
    }
  ]
}